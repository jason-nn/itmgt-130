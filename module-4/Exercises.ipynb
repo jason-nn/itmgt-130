{
 "cells": [
  {
   "cell_type": "markdown",
   "id": "32fe4c11-f2fa-4861-862e-9e0ba39712b3",
   "metadata": {},
   "source": [
    "# FizzBuzz\n",
    "\n",
    "Count from 1 to 100. Print each number.  \n",
    "\n",
    "Along the way:  \n",
    "- If a number is divisible by 3, print \"Fizz\" instead of the number.  \n",
    "- If a number is divisible by 5, print \"Buzz\" instead of the number.  \n",
    "- If a number is divisible by both 3 and 5, print \"FizzBuzz\" instead of the number."
   ]
  },
  {
   "cell_type": "code",
   "execution_count": 6,
   "id": "a2854a37-5efd-4a4e-b4a1-cecbb722d8f3",
   "metadata": {},
   "outputs": [
    {
     "name": "stdout",
     "output_type": "stream",
     "text": [
      "1\n",
      "2\n",
      "Fizz\n",
      "4\n",
      "Buzz\n",
      "Fizz\n",
      "7\n",
      "8\n",
      "Fizz\n",
      "Buzz\n",
      "11\n",
      "Fizz\n",
      "13\n",
      "14\n",
      "FizzBuzz\n",
      "16\n",
      "17\n",
      "Fizz\n",
      "19\n",
      "Buzz\n",
      "Fizz\n",
      "22\n",
      "23\n",
      "Fizz\n",
      "Buzz\n",
      "26\n",
      "Fizz\n",
      "28\n",
      "29\n",
      "FizzBuzz\n",
      "31\n",
      "32\n",
      "Fizz\n",
      "34\n",
      "Buzz\n",
      "Fizz\n",
      "37\n",
      "38\n",
      "Fizz\n",
      "Buzz\n",
      "41\n",
      "Fizz\n",
      "43\n",
      "44\n",
      "FizzBuzz\n",
      "46\n",
      "47\n",
      "Fizz\n",
      "49\n",
      "Buzz\n",
      "Fizz\n",
      "52\n",
      "53\n",
      "Fizz\n",
      "Buzz\n",
      "56\n",
      "Fizz\n",
      "58\n",
      "59\n",
      "FizzBuzz\n",
      "61\n",
      "62\n",
      "Fizz\n",
      "64\n",
      "Buzz\n",
      "Fizz\n",
      "67\n",
      "68\n",
      "Fizz\n",
      "Buzz\n",
      "71\n",
      "Fizz\n",
      "73\n",
      "74\n",
      "FizzBuzz\n",
      "76\n",
      "77\n",
      "Fizz\n",
      "79\n",
      "Buzz\n",
      "Fizz\n",
      "82\n",
      "83\n",
      "Fizz\n",
      "Buzz\n",
      "86\n",
      "Fizz\n",
      "88\n",
      "89\n",
      "FizzBuzz\n",
      "91\n",
      "92\n",
      "Fizz\n",
      "94\n",
      "Buzz\n",
      "Fizz\n",
      "97\n",
      "98\n",
      "Fizz\n",
      "Buzz\n"
     ]
    }
   ],
   "source": [
    "for number in range(1, 101):\n",
    "    if (number % 3 == 0) and (number % 5 == 0):\n",
    "        print(\"FizzBuzz\")\n",
    "    elif (number % 5) == 0:\n",
    "        print(\"Buzz\")\n",
    "    elif (number % 3) == 0:\n",
    "        print(\"Fizz\")\n",
    "    else:\n",
    "        print(number)"
   ]
  },
  {
   "cell_type": "markdown",
   "id": "1454e66d-a358-4a0c-b1c6-3451b6a46058",
   "metadata": {},
   "source": [
    "# Guessing Game  \n",
    "\n",
    "There is a secret number hidden in your code.  \n",
    "\n",
    "Prompt the user to guess the number.  \n",
    "\n",
    "If they guess correctly, congratulate them and exit the program.  \n",
    "\n",
    "If they guess incorrectly, tell them whether the secret number is higher or lower than their guess.  \n",
    "\n",
    "If they enter \"GIVE UP\", send a game over message and exit the program."
   ]
  },
  {
   "cell_type": "code",
   "execution_count": 9,
   "id": "e4cd2281-d5e7-4464-b495-a346eef14609",
   "metadata": {},
   "outputs": [
    {
     "name": "stdin",
     "output_type": "stream",
     "text": [
      " 72\n"
     ]
    },
    {
     "name": "stdout",
     "output_type": "stream",
     "text": [
      "Congratulations!\n"
     ]
    }
   ],
   "source": [
    "SECRET_NUMBER = 72\n",
    "\n",
    "while True:\n",
    "    user_guess = input()\n",
    "    if user_guess == 'GIVE UP':\n",
    "        print('Game over.')\n",
    "        break\n",
    "    user_guess = int(user_guess)\n",
    "    if user_guess == SECRET_NUMBER:\n",
    "        print('Congratulations!')\n",
    "        break\n",
    "    if user_guess > SECRET_NUMBER:\n",
    "        print('The secret number is lower.')\n",
    "        continue\n",
    "    print('The secret number is higher.')"
   ]
  },
  {
   "cell_type": "code",
   "execution_count": null,
   "id": "66a78799-eb5a-4ae5-9a12-10f4e735edeb",
   "metadata": {},
   "outputs": [],
   "source": []
  }
 ],
 "metadata": {
  "kernelspec": {
   "display_name": "Python 3 (ipykernel)",
   "language": "python",
   "name": "python3"
  },
  "language_info": {
   "codemirror_mode": {
    "name": "ipython",
    "version": 3
   },
   "file_extension": ".py",
   "mimetype": "text/x-python",
   "name": "python",
   "nbconvert_exporter": "python",
   "pygments_lexer": "ipython3",
   "version": "3.9.12"
  }
 },
 "nbformat": 4,
 "nbformat_minor": 5
}
